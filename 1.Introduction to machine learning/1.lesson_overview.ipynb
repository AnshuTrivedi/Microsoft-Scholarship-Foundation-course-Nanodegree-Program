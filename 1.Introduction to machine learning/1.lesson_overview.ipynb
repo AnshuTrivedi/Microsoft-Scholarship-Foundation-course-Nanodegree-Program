{
 "cells": [
  {
   "cell_type": "markdown",
   "metadata": {},
   "source": [
    "**Here are the main topics we'll cover:**\n",
    "\n",
    "* What machine learning is and why it's so important in today's world\n",
    "* The historical context of machine learning\n",
    "* The data science process\n",
    "* The types of data that machine learning deals with\n",
    "* The two main perspectives in ML: the statistical perspective and the computer science perspective\n",
    "* The essential tools needed for designing and training machine learning models\n",
    "* The basics of Azure ML\n",
    "* The distinction between models and algorithms\n",
    "* The basics of a linear regression model\n",
    "* The distinction between parametric vs. non-parametric functions\n",
    "* The distinction between classical machine learning vs. deep learning\n",
    "* The main approaches to machine learning\n",
    "* The trade-offs that come up when making decisions about how to design and training machine learning models"
   ]
  }
 ],
 "metadata": {
  "kernelspec": {
   "display_name": "Python 3",
   "language": "python",
   "name": "python3"
  },
  "language_info": {
   "codemirror_mode": {
    "name": "ipython",
    "version": 3
   },
   "file_extension": ".py",
   "mimetype": "text/x-python",
   "name": "python",
   "nbconvert_exporter": "python",
   "pygments_lexer": "ipython3",
   "version": "3.7.7"
  }
 },
 "nbformat": 4,
 "nbformat_minor": 4
}

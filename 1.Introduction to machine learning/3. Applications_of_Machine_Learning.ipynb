{
 "cells": [
  {
   "cell_type": "markdown",
   "metadata": {},
   "source": [
    "# Applications of Machine Learning\n"
   ]
  },
  {
   "cell_type": "markdown",
   "metadata": {},
   "source": [
    "The applications of machine learning are extremely broad! And the opportunities cut across industry verticals.` Whether the industry is healthcare, finance, manufacturing, retail, government, or education, there is enormous potential to apply machine learning to solve problems in more efficient and impactful ways`."
   ]
  },
  {
   "cell_type": "markdown",
   "metadata": {},
   "source": [
    "## Examples of Applied Machine Learning"
   ]
  },
  {
   "cell_type": "markdown",
   "metadata": {},
   "source": [
    "### 1.Automate the recognition of disease\n",
    "Trained physicians can only review and evaluate a limited volume of patients or patient images (X-rays, sonograms, etc.). Machine learning can be used to spot the disease, hence reducing physician burnout. For example, [Google has trained a deep learning model to detect breast cancer](https://www.mercurynews.com/2017/03/03/google-computers-trained-to-detect-cancer/) and [Stanford researchers have used deep learning models to diagnose skin cancer](https://news.stanford.edu/2017/01/25/artificial-intelligence-used-identify-skin-cancer/)."
   ]
  },
  {
   "cell_type": "markdown",
   "metadata": {},
   "source": [
    "### 2.Recommend next best actions for individual care plans\n",
    "\n",
    "With the mass digitization of patient data via systems that use [EMRs (Electronic Medical Records) and EHRs (Electronic Health Records)](https://en.wikipedia.org/wiki/Electronic_health_record), machine learning can be used to help build effective individual care plans. For example, [IBM Watson Oncology](https://www.ibm.com/products/clinical-decision-support-oncology) can help clinicians explore potential treatment options. More examples of how machine learning impacts healthcare can be found [here](https://www.forbes.com/sites/nicolemartin1/2019/08/30/how-healthcare-is-using-big-data-and-ai-to-cure-disease/#64671f7e45cf)."
   ]
  },
  {
   "cell_type": "markdown",
   "metadata": {},
   "source": [
    "### 3. Enable personalized, real-time banking experiences with chatbots\n",
    "\n",
    "You've likely encountered this when you call a customer service number. Machine learning can be used to intercept and handle common, straightforward issues through chat and messaging services, so customers can quickly and independently resolve simple issues that would otherwise have required human intervention. With the chatbot, a customer can simply type in a question and the bot engages to surface the answer. Refer to [this article](https://www.drift.com/learn/chatbot/ai-chatbots/) to find more information about chatbot powered machine learning."
   ]
  },
  {
   "cell_type": "markdown",
   "metadata": {},
   "source": [
    "### 4. Identify the next best action for the customer\n",
    "\n",
    "Real-time insights that incorporate machine learning tools—such as [sentiment analysis](https://www.concur.com/newsroom/article/machine-learning-with-heart-how-sentiment-analysis-can-help-your)—can help organizations assess the likelihood of a deal closing or the level of a customer’s loyalty. [Personally-tailored recommendations](https://medium.com/@madasamy/introduction-to-recommendation-systems-and-how-to-design-recommendation-system-that-resembling-the-9ac167e30e95) powered by machine learning can engage and delight customers with information and offers that are relevant to them."
   ]
  },
  {
   "cell_type": "markdown",
   "metadata": {},
   "source": [
    "### 5.Capture, prioritize, and route service requests to the correct employee, and improve response times\n",
    "\n",
    "A busy government organization gets innumerable service requests on an annual basis. Machine learning tools can help to capture incoming service requests, to route them to the correct employee in real-time, to refine prioritization, and improve response times. Can check out [this article](https://monkeylearn.com/blog/ticket-routing/) if you're curious to learn more about ticket routing"
   ]
  }
 ],
 "metadata": {
  "kernelspec": {
   "display_name": "Python 3",
   "language": "python",
   "name": "python3"
  },
  "language_info": {
   "codemirror_mode": {
    "name": "ipython",
    "version": 3
   },
   "file_extension": ".py",
   "mimetype": "text/x-python",
   "name": "python",
   "nbconvert_exporter": "python",
   "pygments_lexer": "ipython3",
   "version": "3.7.7"
  }
 },
 "nbformat": 4,
 "nbformat_minor": 4
}

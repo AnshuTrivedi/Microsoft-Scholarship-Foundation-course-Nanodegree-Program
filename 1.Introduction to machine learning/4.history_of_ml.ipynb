{
 "cells": [
  {
   "cell_type": "markdown",
   "metadata": {},
   "source": [
    "A broad term that refers to computers thinking more like humans. - Artificial Intelligence\n",
    "\n",
    "\n",
    "A subcategory of artificial intelligence that involves learning from data without being explicitly programmed.- Machine Learning\n",
    "\n",
    "\n",
    "A subcategory of machine learning that uses a layered neural-network architecture originally inspired by the human brain.- Deep Learning"
   ]
  },
  {
   "cell_type": "markdown",
   "metadata": {},
   "source": [
    "**Further Reading**\n",
    "\n",
    "[What’s the Difference Between Artificial Intelligence, Machine Learning and Deep Learning? by Michael Copeland at NVIDIA](https://blogs.nvidia.com/blog/2016/07/29/whats-difference-artificial-intelligence-machine-learning-deep-learning-ai/)"
   ]
  }
 ],
 "metadata": {
  "kernelspec": {
   "display_name": "Python 3",
   "language": "python",
   "name": "python3"
  },
  "language_info": {
   "codemirror_mode": {
    "name": "ipython",
    "version": 3
   },
   "file_extension": ".py",
   "mimetype": "text/x-python",
   "name": "python",
   "nbconvert_exporter": "python",
   "pygments_lexer": "ipython3",
   "version": "3.7.7"
  }
 },
 "nbformat": 4,
 "nbformat_minor": 4
}
